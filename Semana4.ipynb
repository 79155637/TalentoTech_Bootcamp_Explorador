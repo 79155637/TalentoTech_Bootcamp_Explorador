{
  "nbformat": 4,
  "nbformat_minor": 0,
  "metadata": {
    "colab": {
      "provenance": [],
      "authorship_tag": "ABX9TyMv1lhdTSmjAUBuI6OgaVen",
      "include_colab_link": true
    },
    "kernelspec": {
      "name": "python3",
      "display_name": "Python 3"
    },
    "language_info": {
      "name": "python"
    }
  },
  "cells": [
    {
      "cell_type": "markdown",
      "metadata": {
        "id": "view-in-github",
        "colab_type": "text"
      },
      "source": [
        "<a href=\"https://colab.research.google.com/github/ledyquesada/Ejercicios/blob/main/Semana4.ipynb\" target=\"_parent\"><img src=\"https://colab.research.google.com/assets/colab-badge.svg\" alt=\"Open In Colab\"/></a>"
      ]
    },
    {
      "cell_type": "code",
      "execution_count": null,
      "metadata": {
        "id": "3kOoNdhWV7Nm"
      },
      "outputs": [],
      "source": []
    },
    {
      "cell_type": "markdown",
      "source": [
        "A continuación se detallan funciones importantes para la manipulación de datos. Cada función se debe ajustar al ejercicio en cuestión"
      ],
      "metadata": {
        "id": "mgi-ssCdWhRW"
      }
    },
    {
      "cell_type": "markdown",
      "source": [
        "# Manipulación de datos con Pandas"
      ],
      "metadata": {
        "id": "bYovyKHwdtB6"
      }
    },
    {
      "cell_type": "markdown",
      "source": [
        "**Selección de Columnas**\n"
      ],
      "metadata": {
        "id": "o1E2C2Z3WAL1"
      }
    },
    {
      "cell_type": "code",
      "source": [
        "import pandas as pd\n",
        "\n",
        "# Crear un DataFrame de ejemplo\n",
        "data = {'Nombre': ['Alice', 'Bob', 'Charlie'],\n",
        "        'Edad': [25, 30, 35],\n",
        "        'Ciudad': ['A', 'B', 'C']}\n",
        "df = pd.DataFrame(data)\n",
        "\n",
        "# Seleccionar la columna 'Nombre'\n",
        "nombres = df['Nombre']\n"
      ],
      "metadata": {
        "id": "0YDqlz8dWLXe"
      },
      "execution_count": null,
      "outputs": []
    },
    {
      "cell_type": "markdown",
      "source": [
        "**Selección de Filas por Condición**"
      ],
      "metadata": {
        "id": "hTxW_iznWMsJ"
      }
    },
    {
      "cell_type": "code",
      "source": [
        "# Seleccionar filas donde la edad es mayor que 30\n",
        "mayores_de_30 = df[df['Edad'] > 30]\n"
      ],
      "metadata": {
        "id": "ZLLaRVnaWSwB"
      },
      "execution_count": null,
      "outputs": []
    },
    {
      "cell_type": "markdown",
      "source": [
        "**Indexación Loc e iLoc:**"
      ],
      "metadata": {
        "id": "c6HJZ3gNWXaZ"
      }
    },
    {
      "cell_type": "code",
      "source": [
        "# Seleccionar una fila por etiqueta\n",
        "alice_info = df.loc[0]\n",
        "\n",
        "# Seleccionar una fila por índice\n",
        "primera_fila = df.iloc[0]\n"
      ],
      "metadata": {
        "id": "6so0AAQBWdeh"
      },
      "execution_count": null,
      "outputs": []
    },
    {
      "cell_type": "markdown",
      "source": [
        "**Indexación Avanzada con Loc e iLoc**"
      ],
      "metadata": {
        "id": "hO-K51juWufB"
      }
    },
    {
      "cell_type": "code",
      "source": [
        "# Seleccionar filas 1 y 2, y columnas 'Nombre' y 'Ciudad'\n",
        "subset = df.loc[1:2, ['Nombre', 'Ciudad']]\n"
      ],
      "metadata": {
        "id": "EjSVsbhuW0TG"
      },
      "execution_count": null,
      "outputs": []
    },
    {
      "cell_type": "markdown",
      "source": [
        "**Asignación de valores**"
      ],
      "metadata": {
        "id": "NElGQzb9W3HT"
      }
    },
    {
      "cell_type": "code",
      "source": [
        "# Asignar un nuevo valor a la celda en la fila 0 y columna 'Edad'\n",
        "df.loc[0, 'Edad'] = 26\n",
        "\n",
        "# Asignar el valor 'D' a la columna 'Ciudad' donde la edad es mayor que 30\n",
        "df.loc[df['Edad'] > 30, 'Ciudad'] = 'D'\n"
      ],
      "metadata": {
        "id": "-IeCK4vJW7wU"
      },
      "execution_count": null,
      "outputs": []
    },
    {
      "cell_type": "markdown",
      "source": [
        "**Indexación Booleana**"
      ],
      "metadata": {
        "id": "pQeQe9ERXEmq"
      }
    },
    {
      "cell_type": "code",
      "source": [
        "# Filtrar filas donde la edad es mayor que 30\n",
        "mayores_de_30 = df[df['Edad'] > 30]\n"
      ],
      "metadata": {
        "id": "-mBfR9yHXJwS"
      },
      "execution_count": null,
      "outputs": []
    },
    {
      "cell_type": "markdown",
      "source": [
        "**Indexación con Funciones**"
      ],
      "metadata": {
        "id": "ICKvbYCzXNFj"
      }
    },
    {
      "cell_type": "code",
      "source": [
        "# Aplicar una función a la columna 'Edad' para calcular el cuadrado\n",
        "df['Edad_al_cuadrado'] = df['Edad'].apply(lambda x: x**2)"
      ],
      "metadata": {
        "id": "drjRnDVaXQ0K"
      },
      "execution_count": null,
      "outputs": []
    },
    {
      "cell_type": "markdown",
      "source": [
        "**Funciones Lambda**"
      ],
      "metadata": {
        "id": "aqexDjjpYiLi"
      }
    },
    {
      "cell_type": "code",
      "source": [
        "square = lambda x: x**2\n",
        "print(square(4))  # Output: 16\n",
        "\n",
        "# Aplicar una función lambda a cada fila con parámetro axis\n",
        "df['suma_filas'] = df.apply(lambda row: row['A'] + row['B'], axis=1)\n",
        "\n"
      ],
      "metadata": {
        "id": "KENHUGABYntx"
      },
      "execution_count": null,
      "outputs": []
    },
    {
      "cell_type": "markdown",
      "source": [
        "**Apply**"
      ],
      "metadata": {
        "id": "baeMwFMWYqs5"
      }
    },
    {
      "cell_type": "code",
      "source": [
        "import pandas as pd\n",
        "\n",
        "# Crear un DataFrame de ejemplo\n",
        "data = {'A': [1, 2, 3], 'B': [4, 5, 6]}\n",
        "df = pd.DataFrame(data)\n",
        "\n",
        "# Aplicar una función lambda a cada elemento de la columna 'A'\n",
        "df['A_cuadrado'] = df['A'].apply(lambda x: x**2)\n"
      ],
      "metadata": {
        "id": "ZwZ4bVSFY7w6"
      },
      "execution_count": null,
      "outputs": []
    },
    {
      "cell_type": "markdown",
      "source": [
        "# Manejo de datos faltantes\n",
        "**Identificar datos faltantes-Eliminar-Rellenar-Interpolar-Imputar**"
      ],
      "metadata": {
        "id": "IjO3SdeRZc9L"
      }
    },
    {
      "cell_type": "code",
      "source": [
        "# Identificar datos faltantes\n",
        "df.isnull()\n",
        "\n",
        "# Eliminar filas con al menos un valor nulo\n",
        "df_sin_nulos = df.dropna()\n",
        "\n",
        "# Rellenar valores nulos con 0\n",
        "df_con_ceros = df.fillna(0)\n",
        "\n",
        "# Interpolar valores nulos\n",
        "df_interpolado = df.interpolate()\n",
        "\n",
        "#Imputación de datos faltantes\n",
        "from sklearn.impute import SimpleImputer\n",
        "\n",
        "# Paso 1 Crear un imputador simple\n",
        "imputer = SimpleImputer(strategy='mean')\n",
        "\n",
        "# Paso 2 Aplicar la imputación a las columnas con valores nulos\n",
        "df_imputado = pd.DataFrame(imputer.fit_transform(df), columns=df.columns)\n",
        "\n"
      ],
      "metadata": {
        "id": "8zmou8qdZrtJ"
      },
      "execution_count": null,
      "outputs": []
    },
    {
      "cell_type": "markdown",
      "source": [
        "# Operaciones con Arrays en NumPy\n",
        "**Operaciones matemáticas Básica**\n"
      ],
      "metadata": {
        "id": "53S9ZzLrb3eD"
      }
    },
    {
      "cell_type": "code",
      "source": [
        "import numpy as np\n",
        "\n",
        "# Crear dos arrays\n",
        "array1 = np.array([1, 2, 3, 4])\n",
        "array2 = np.array([5, 6, 7, 8])\n",
        "\n",
        "# Suma de dos arrays\n",
        "suma = array1 + array2\n",
        "\n",
        "# Resta de dos arrays\n",
        "resta = array2 - array1\n",
        "\n",
        "# Multiplicación elemento a elemento\n",
        "multiplicacion = array1 * array2\n",
        "\n",
        "# División elemento a elemento\n",
        "division = array2 / array1\n"
      ],
      "metadata": {
        "id": "Ncg-VEC4cGE1"
      },
      "execution_count": null,
      "outputs": []
    },
    {
      "cell_type": "markdown",
      "source": [
        "**Operaciones estadísticas Básicas**"
      ],
      "metadata": {
        "id": "A-0x47jyclUC"
      }
    },
    {
      "cell_type": "code",
      "source": [
        "# Calcular la media\n",
        "media = np.mean(array1)\n",
        "\n",
        "# Calcular la mediana\n",
        "mediana = np.median(array1)\n",
        "\n",
        "# Calcular la desviación estándar\n",
        "desviacion_estandar = np.std(array1)\n",
        "\n",
        "# Calcular la varianza\n",
        "varianza = np.var(array1)\n"
      ],
      "metadata": {
        "id": "562tUW6vco7q"
      },
      "execution_count": null,
      "outputs": []
    },
    {
      "cell_type": "markdown",
      "source": [
        "**Broadcasting**"
      ],
      "metadata": {
        "id": "89xLtPUxdKPC"
      }
    },
    {
      "cell_type": "code",
      "source": [
        "# Broadcasting con un escalar\n",
        "array_con_escalar = array1 + 10\n",
        "\n",
        "# Broadcasting entre arrays de diferentes formas\n",
        "matriz = np.array([[1, 2, 3], [4, 5, 6]])\n",
        "suma_matriz = matriz + array1[:, np.newaxis]\n"
      ],
      "metadata": {
        "id": "JXP4GYOAdNh5"
      },
      "execution_count": null,
      "outputs": []
    },
    {
      "cell_type": "markdown",
      "source": [
        "**Vectorización**"
      ],
      "metadata": {
        "id": "e1j_0GucdmIz"
      }
    },
    {
      "cell_type": "code",
      "source": [
        "# Operación sin vectorización\n",
        "resultado_sin_vectorizacion = [x + y for x, y in zip(array1, array2)]\n",
        "\n",
        "# Operación con vectorización\n",
        "resultado_con_vectorizacion = array1 + array2\n"
      ],
      "metadata": {
        "id": "ZGu6VGHldppM"
      },
      "execution_count": null,
      "outputs": []
    },
    {
      "cell_type": "markdown",
      "source": [
        "# Arrays multidimensionales"
      ],
      "metadata": {
        "id": "j7F-vyMre_KW"
      }
    },
    {
      "cell_type": "code",
      "source": [
        "import numpy as np\n",
        "\n",
        "# Crear una matriz bidimensional (2x3)\n",
        "matriz_2d = np.array([[1, 2, 3], [4, 5, 6]])\n",
        "\n",
        "# Crear un tensor tridimensional (2x3x4)\n",
        "tensor_3d = np.array([[[1, 2, 3, 4], [5, 6, 7, 8], [9, 10, 11, 12]],\n",
        "                      [[13, 14, 15, 16], [17, 18, 19, 20], [21, 22, 23, 24]]])\n",
        "\n",
        "# Dimensiones (rango) de la matriz 2D\n",
        "dimensiones_2d = matriz_2d.ndim\n",
        "\n",
        "# Forma (shape) de la matriz 2D\n",
        "forma_2d = matriz_2d.shape  # (2, 3)\n",
        "\n",
        "# Número total de elementos en la matriz 2D\n",
        "total_elementos_2d = matriz_2d.size\n",
        "\n",
        "# Acceder a un elemento específico en la matriz 2D\n",
        "elemento = matriz_2d[1, 2]  # Fila 1, Columna 2 (índices base 0)\n",
        "\n",
        "# Slicing en la matriz 2D\n",
        "submatriz = matriz_2d[:, 1:3]  # Todas las filas, columnas 1 a 2\n",
        "\n",
        "# Acceder a un elemento específico en el tensor 3D\n",
        "elemento_3d = tensor_3d[1, 2, 3]  # Capa 1, Fila 2, Columna 3\n",
        "\n",
        "# Operaciones matemáticas y estadísticas en la matriz 2D\n",
        "suma_columnas = np.sum(matriz_2d, axis=0)  # Suma a lo largo de las filas\n",
        "media_filas = np.mean(matriz_2d, axis=1)   # Media a lo largo de las columnas\n",
        "\n",
        "# Broadcasting en arrays multidimensionales\n",
        "matriz_con_escalar = matriz_2d + 10  # Suma un escalar a todos los elementos\n",
        "\n",
        "# Operaciones de álgebra lineal\n",
        "producto_punto = np.dot(matriz_2d, matriz_2d.T)  # Producto punto con la transpuesta\n",
        "\n",
        "# Cambiar la forma de un array\n",
        "matriz_aplanada = matriz_2d.flatten()\n",
        "\n",
        "# Cambiar la forma de un array manteniendo una dimensión\n",
        "tensor_aplanado = tensor_3d.reshape((2, 12))\n",
        "\n",
        "# Concatenar arrays multidimensionales\n",
        "concatenacion_horizontal = np.concatenate((matriz_2d, matriz_2d), axis=1)\n",
        "concatenacion_vertical = np.concatenate((matriz_2d, matriz_2d), axis=0)\n"
      ],
      "metadata": {
        "id": "v8Xfj_AifCkP"
      },
      "execution_count": null,
      "outputs": []
    }
  ]
}