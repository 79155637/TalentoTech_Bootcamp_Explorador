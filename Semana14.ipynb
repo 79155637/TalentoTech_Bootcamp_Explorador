{
  "nbformat": 4,
  "nbformat_minor": 0,
  "metadata": {
    "colab": {
      "provenance": [],
      "authorship_tag": "ABX9TyN/Md9YJjgaDU2klR9AaQlP",
      "include_colab_link": true
    },
    "kernelspec": {
      "name": "python3",
      "display_name": "Python 3"
    },
    "language_info": {
      "name": "python"
    }
  },
  "cells": [
    {
      "cell_type": "markdown",
      "metadata": {
        "id": "view-in-github",
        "colab_type": "text"
      },
      "source": [
        "<a href=\"https://colab.research.google.com/github/ledyquesada/Ejercicios/blob/main/Semana14.ipynb\" target=\"_parent\"><img src=\"https://colab.research.google.com/assets/colab-badge.svg\" alt=\"Open In Colab\"/></a>"
      ]
    },
    {
      "cell_type": "code",
      "execution_count": null,
      "metadata": {
        "id": "CYCd1IYdDt0O"
      },
      "outputs": [],
      "source": []
    },
    {
      "cell_type": "markdown",
      "source": [
        "# VALIDACIÓN CRUZADA\n",
        "**K-Fold**"
      ],
      "metadata": {
        "id": "kq3jnWWDDyZJ"
      }
    },
    {
      "cell_type": "code",
      "source": [
        "#K-Fold\n",
        "from sklearn.model_selection import cross_val_score, KFold\n",
        "from sklearn.linear_model import LinearRegression\n",
        "import numpy as np\n",
        "\n",
        "# Datos de ejemplo\n",
        "X = np.random.rand(100, 5)\n",
        "y = 2*X[:, 0] + 3*X[:, 1] + np.random.randn(100)\n",
        "\n",
        "# Modelo de regresión lineal\n",
        "modelo = LinearRegression()\n",
        "\n",
        "# K-Fold Cross-Validation con 5 folds\n",
        "kf = KFold(n_splits=5, shuffle=True, random_state=42)\n",
        "resultados = cross_val_score(modelo, X, y, cv=kf)\n",
        "\n",
        "# Imprimir resultados\n",
        "print(\"Resultados K-Fold Cross-Validation:\")\n",
        "print(resultados)\n",
        "\n",
        "#Stratified K-Fold\n",
        "from sklearn.model_selection import StratifiedKFold\n",
        "from sklearn.svm import SVC\n",
        "from sklearn.datasets import make_classification\n",
        "\n",
        "# Datos de ejemplo desequilibrados\n",
        "X, y = make_classification(n_samples=1000, n_features=20, n_classes=2, weights=[0.95, 0.05], random_state=42)\n",
        "\n",
        "# Modelo de SVM\n",
        "modelo_svm = SVC(kernel='linear')\n",
        "\n",
        "# Stratified K-Fold Cross-Validation con 3 folds\n",
        "skf = StratifiedKFold(n_splits=3, shuffle=True, random_state=42)\n",
        "resultados_stratified = cross_val_score(modelo_svm, X, y, cv=skf)\n",
        "\n",
        "# Imprimir resultados\n",
        "print(\"Resultados Stratified K-Fold Cross-Validation:\")\n",
        "print(resultados_stratified)\n",
        "\n",
        "#Leave-One-Out Cross-Validation\n",
        "\n",
        "from sklearn.model_selection import LeaveOneOut\n",
        "from sklearn.neighbors import KNeighborsClassifier\n",
        "from sklearn.datasets import load_iris\n",
        "\n",
        "# Datos de ejemplo (iris)\n",
        "iris = load_iris()\n",
        "X, y = iris.data, iris.target\n",
        "\n",
        "# Modelo de clasificación k-NN\n",
        "modelo_knn = KNeighborsClassifier()\n",
        "\n",
        "# Leave-One-Out Cross-Validation\n",
        "loo = LeaveOneOut()\n",
        "resultados_loo = cross_val_score(modelo_knn, X, y, cv=loo)\n",
        "\n",
        "# Imprimir resultados\n",
        "print(\"Resultados Leave-One-Out Cross-Validation:\")\n",
        "print(resultados_loo)\n"
      ],
      "metadata": {
        "colab": {
          "base_uri": "https://localhost:8080/"
        },
        "id": "IUol3VNXD91h",
        "outputId": "d08fafba-1058-4b00-a5d0-aa972443cea9"
      },
      "execution_count": 3,
      "outputs": [
        {
          "output_type": "stream",
          "name": "stdout",
          "text": [
            "Resultados K-Fold Cross-Validation:\n",
            "[ 0.49058583  0.48907417 -0.0314514   0.5469021   0.55665921]\n",
            "Resultados Stratified K-Fold Cross-Validation:\n",
            "[0.9491018  0.95195195 0.95195195]\n",
            "Resultados Leave-One-Out Cross-Validation:\n",
            "[1. 1. 1. 1. 1. 1. 1. 1. 1. 1. 1. 1. 1. 1. 1. 1. 1. 1. 1. 1. 1. 1. 1. 1.\n",
            " 1. 1. 1. 1. 1. 1. 1. 1. 1. 1. 1. 1. 1. 1. 1. 1. 1. 1. 1. 1. 1. 1. 1. 1.\n",
            " 1. 1. 1. 1. 1. 1. 1. 1. 1. 1. 1. 1. 1. 1. 1. 1. 1. 1. 1. 1. 1. 1. 0. 1.\n",
            " 0. 1. 1. 1. 1. 1. 1. 1. 1. 1. 1. 0. 1. 1. 1. 1. 1. 1. 1. 1. 1. 1. 1. 1.\n",
            " 1. 1. 1. 1. 1. 1. 1. 1. 1. 1. 0. 1. 1. 1. 1. 1. 1. 1. 1. 1. 1. 1. 1. 0.\n",
            " 1. 1. 1. 1. 1. 1. 1. 1. 1. 1. 1. 1. 1. 1. 1. 1. 1. 1. 1. 1. 1. 1. 1. 1.\n",
            " 1. 1. 1. 1. 1. 1.]\n"
          ]
        }
      ]
    },
    {
      "cell_type": "markdown",
      "source": [
        "**EJEMPLO PRACTICO**\n",
        "En este ejemplo, se utiliza un conjunto de datos aleatorio generado por make_classification de Scikit-Learn. El modelo de clasificación utilizado es un Bosque Aleatorio (RandomForestClassifier). Se aplica K-Fold Cross-Validation con 5 folds para evaluar el rendimiento del modelo. Los resultados impresos son las puntuaciones de la validación cruzada para cada fold.\n"
      ],
      "metadata": {
        "id": "kntlMXkpFEyX"
      }
    },
    {
      "cell_type": "code",
      "source": [
        "from sklearn.model_selection import cross_val_score, KFold\n",
        "from sklearn.ensemble import RandomForestClassifier\n",
        "from sklearn.datasets import make_classification\n",
        "\n",
        "# Generar un conjunto de datos aleatorio\n",
        "X, y = make_classification(n_samples=1000, n_features=20, n_classes=2, random_state=42)\n",
        "\n",
        "# Modelo de clasificación - Bosques Aleatorios\n",
        "modelo_rf = RandomForestClassifier(n_estimators=100, random_state=42)\n",
        "\n",
        "# K-Fold Cross-Validation con 5 folds\n",
        "kf = KFold(n_splits=5, shuffle=True, random_state=42)\n",
        "\n",
        "# Resultados de la validación cruzada\n",
        "resultados = cross_val_score(modelo_rf, X, y, cv=kf)\n",
        "\n",
        "# Imprimir resultados\n",
        "print(\"Resultados de K-Fold Cross-Validation:\")\n",
        "print(resultados)\n"
      ],
      "metadata": {
        "colab": {
          "base_uri": "https://localhost:8080/"
        },
        "id": "ky1zaJECFICc",
        "outputId": "3cbde28d-17b1-443b-ab89-c520bfdec91b"
      },
      "execution_count": 4,
      "outputs": [
        {
          "output_type": "stream",
          "name": "stdout",
          "text": [
            "Resultados de K-Fold Cross-Validation:\n",
            "[0.895 0.86  0.935 0.88  0.925]\n"
          ]
        }
      ]
    }
  ]
}