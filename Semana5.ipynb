{
  "nbformat": 4,
  "nbformat_minor": 0,
  "metadata": {
    "colab": {
      "provenance": [],
      "authorship_tag": "ABX9TyN6va1P9OKnSTBJk4V1Q0MR",
      "include_colab_link": true
    },
    "kernelspec": {
      "name": "python3",
      "display_name": "Python 3"
    },
    "language_info": {
      "name": "python"
    }
  },
  "cells": [
    {
      "cell_type": "markdown",
      "metadata": {
        "id": "view-in-github",
        "colab_type": "text"
      },
      "source": [
        "<a href=\"https://colab.research.google.com/github/ledyquesada/Ejercicios/blob/main/Semana5.ipynb\" target=\"_parent\"><img src=\"https://colab.research.google.com/assets/colab-badge.svg\" alt=\"Open In Colab\"/></a>"
      ]
    },
    {
      "cell_type": "markdown",
      "source": [
        "**Continuando con manipulación avanzada de datos con Python**\n",
        "# Trabajo con fechas y series temporales"
      ],
      "metadata": {
        "id": "zQ-ngBk4BPDT"
      }
    },
    {
      "cell_type": "markdown",
      "source": [
        "**Datetime**"
      ],
      "metadata": {
        "id": "0s_9xm2XBu_f"
      }
    },
    {
      "cell_type": "code",
      "execution_count": null,
      "metadata": {
        "id": "7GSk1uD1BMXY"
      },
      "outputs": [],
      "source": []
    },
    {
      "cell_type": "code",
      "source": [
        "from datetime import datetime\n",
        "\n",
        "# Obtener la fecha y hora actual\n",
        "fecha_actual = datetime.now()\n",
        "\n",
        "# Crear una fecha específica\n",
        "fecha_personalizada = datetime(2022, 10, 1, 12, 30, 0)\n"
      ],
      "metadata": {
        "id": "5chdMPLtBglj"
      },
      "execution_count": null,
      "outputs": []
    },
    {
      "cell_type": "markdown",
      "source": [
        "**Timestamp- DatetimeIndex**"
      ],
      "metadata": {
        "id": "eS_HaTAQDlKy"
      }
    },
    {
      "cell_type": "code",
      "source": [
        "import pandas as pd\n",
        "\n",
        "# Crear una serie temporal con fechas\n",
        "fechas = pd.date_range(start='2022-01-01', end='2022-01-10', freq='D')\n",
        "\n",
        "# Crear una serie temporal con índice de fechas\n",
        "datos = [10, 20, 15, 25, 30, 22, 18, 27, 29, 35]\n",
        "serie_temporal = pd.Series(datos, index=fechas)\n",
        "\n",
        "# Acceder a datos utilizando fechas\n",
        "dato_1 = serie_temporal['2022-01-05']\n",
        "rango_fechas = serie_temporal['2022-01-03':'2022-01-08']\n",
        "\n",
        "# Resampling y frecuencias temporales\n",
        "resample_semanal = serie_temporal.resample('W').mean()\n",
        "\n",
        "# Operaciones con fechas\n",
        "dias_transcurridos = serie_temporal.index.max() - serie_temporal.index.min()\n"
      ],
      "metadata": {
        "id": "ixEdXmd7Dtc9"
      },
      "execution_count": null,
      "outputs": []
    },
    {
      "cell_type": "markdown",
      "source": [
        "**Zonas horarias**"
      ],
      "metadata": {
        "id": "PlubdyeGTbjD"
      }
    },
    {
      "cell_type": "code",
      "source": [
        "import pandas as pd\n",
        "from datetime import datetime\n",
        "import pytz\n",
        "\n",
        "# Crear una serie temporal con zona horaria\n",
        "fechas = pd.date_range(start='2022-01-01', end='2022-01-10', freq='D', tz='UTC')\n",
        "serie_temporal = pd.Series(range(len(fechas)), index=fechas)\n",
        "\n",
        "# Convertir a otra zona horaria\n",
        "serie_temporal_nueva_zona = serie_temporal.tz_convert('America/New_York')\n"
      ],
      "metadata": {
        "id": "mTj5a9vxTfCv"
      },
      "execution_count": null,
      "outputs": []
    },
    {
      "cell_type": "markdown",
      "source": [
        "**Periodos y duraciones**"
      ],
      "metadata": {
        "id": "YtWINtjrTwkE"
      }
    },
    {
      "cell_type": "code",
      "source": [
        "# Crear un rango de periodos mensuales\n",
        "periodos_mensuales = pd.period_range(start='2022-01', end='2022-12', freq='M')\n",
        "\n",
        "# Operaciones con periodos\n",
        "periodo_actualizado = periodos_mensuales + 1\n",
        "\n",
        "# Crear una duración de tiempo\n",
        "duracion = pd.Timedelta(days=5, hours=3)\n",
        "\n",
        "#FILTRADO Y SUBCONJUNTOS BASADOS EN FECHAS\n",
        "\n",
        "# Filtrar datos para un mes específico\n",
        "datos_mes = serie_temporal['2022-03']\n",
        "\n",
        "# Filtrar datos para un rango de fechas\n",
        "datos_rango = serie_temporal['2022-02-15':'2022-03-15']\n",
        "\n",
        "#COMPARACION DE PERIODOS\n",
        "\n",
        "# Comparar si las fechas están en el mismo año\n",
        "mismo_anio = serie_temporal.index.to_period('Y') == pd.Period('2022', freq='Y')\n",
        "\n",
        "#MANEJO DE DIAS HÁBILES\n",
        "# Crear un rango de fechas hábiles\n",
        "fechas_habiles = pd.date_range(start='2022-01-01', end='2022-01-10', freq='B')\n",
        "\n",
        "\n"
      ],
      "metadata": {
        "id": "rsrtDxpgTzmq"
      },
      "execution_count": null,
      "outputs": []
    },
    {
      "cell_type": "markdown",
      "source": [
        "**Resampling**"
      ],
      "metadata": {
        "id": "Xu-OVIWBUfWF"
      }
    },
    {
      "cell_type": "code",
      "source": [
        "# Resamplear datos a frecuencia mensual\n",
        "datos_mensuales = serie_temporal.resample('M').sum()\n",
        "\n",
        "# Calcular la media móvil con una ventana de 3 días\n",
        "media_movil = serie_temporal.rolling(window=3).mean()\n"
      ],
      "metadata": {
        "id": "9Ox-qpspUiPC"
      },
      "execution_count": null,
      "outputs": []
    },
    {
      "cell_type": "markdown",
      "source": [],
      "metadata": {
        "id": "g6PMXU5yUjkU"
      }
    },
    {
      "cell_type": "markdown",
      "source": [
        "# Frecuencias Temporales"
      ],
      "metadata": {
        "id": "tT84Iy_LVlbT"
      }
    },
    {
      "cell_type": "code",
      "source": [
        "import pandas as pd\n",
        "\n",
        "# Crear un rango de fechas diarias\n",
        "fechas_diarias = pd.date_range(start='2022-01-01', end='2022-01-10', freq='D')\n",
        "\n",
        "\n",
        "# Crear un rango de fechas mensuales\n",
        "fechas_mensuales = pd.date_range(start='2022-01-01', end='2022-12-31', freq='M')\n",
        "\n",
        "\n",
        "# Crear un rango de fechas con frecuencia de 4 horas\n",
        "fechas_cada_4_horas = pd.date_range(start='2022-01-01', end='2022-01-10', freq='4H')\n",
        "\n",
        "\n",
        "# Crear un rango de fechas cada 2 semanas\n",
        "fechas_cada_2_semanas = pd.date_range(start='2022-01-01', end='2022-12-31', freq='2W')\n",
        "\n",
        "\n",
        "# Desplazar las fechas 3 días hacia adelante\n",
        "fechas_desplazadas = fechas_diarias + pd.DateOffset(days=3)\n",
        "\n",
        "# Crear un rango de fechas con frecuencia mensual, pero solo los primeros lunes de cada mes\n",
        "fechas_primeros_lunes = pd.date_range(start='2022-01-01', end='2022-12-31', freq='WOM-1MON')\n",
        "\n",
        "\n",
        "# Crear un rango de fechas con frecuencia personalizada\n",
        "fechas_irregulares = pd.date_range(start='2022-01-01', end='2022-01-10', freq=['2D', '3D', '5D'])\n",
        "\n"
      ],
      "metadata": {
        "id": "e0CxNhyMVowi"
      },
      "execution_count": null,
      "outputs": []
    },
    {
      "cell_type": "markdown",
      "source": [
        "# COMBINACIÓN Y FUSIÓN DE CONJUNTOS DE DATOS"
      ],
      "metadata": {
        "id": "jeY76ajdcKUU"
      }
    },
    {
      "cell_type": "code",
      "source": [
        "# Concatenar a lo largo de las filas (por defecto)\n",
        "df_concat_filas = pd.concat([df1, df2])\n",
        "\n",
        "# Concatenar a lo largo de las columnas\n",
        "df_concat_columnas = pd.concat([df1, df2], axis=1)\n",
        "\n",
        "\n",
        "# Merging basado en la columna 'Key'\n",
        "df_merge = pd.merge(df3, df4, on='Key')\n",
        "\n",
        "\n",
        "# Merging externo con sufijos\n",
        "df_merge_outer = pd.merge(df3, df4, on='Key', how='outer', suffixes=('_df3', '_df4'))\n",
        "\n",
        "\n",
        "# Joining basado en los índices\n",
        "df_join = df5.join(df6)\n",
        "\n",
        "\n",
        "# Fusionar DataFrames basándose en múltiples columnas\n",
        "df_merge_multi = pd.merge(df3, df4, on=['Key'], how='inner')\n",
        "\n",
        "# Unir DataFrames basándose en múltiples índices\n",
        "df_join_multi = df5.join(df6, how='inner')\n",
        "\n",
        "\n",
        "# Merging interno (por defecto)\n",
        "df_merge_inner = pd.merge(df3, df4, on='Key', how='inner')\n",
        "\n",
        "# Merging externo (incluye todos los registros)\n",
        "df_merge_outer = pd.merge(df3, df4, on='Key', how='outer')\n",
        "\n",
        "\n",
        "serie1 = pd.Series(['S0', 'S1', 'S2'], name='Serie1')\n",
        "serie2 = pd.Series(['S3', 'S4', 'S5'], name='Serie2')\n",
        "\n",
        "# Concatenar Series a lo largo de las filas\n",
        "serie_concat_filas = pd.concat([serie1, serie2], axis=1)\n"
      ],
      "metadata": {
        "id": "75S53zaTcQxA"
      },
      "execution_count": null,
      "outputs": []
    },
    {
      "cell_type": "markdown",
      "source": [
        "# Ejemplo práctico\n",
        "Supongamos que tenemos datos de ventas diarias de dos productos diferentes en dos ubicaciones diferentes. Queremos analizar y combinar estos conjuntos de datos para obtener una visión más completa."
      ],
      "metadata": {
        "id": "ciOWbHMTfSHr"
      }
    },
    {
      "cell_type": "code",
      "source": [
        "import numpy as np\n",
        "import pandas as pd\n",
        "\n",
        "# Crear datos de ventas diarias para dos productos en dos ubicaciones\n",
        "fechas = pd.date_range(start='2022-01-01', end='2022-01-10', freq='D')\n",
        "ubicacion1_ventas = np.random.randint(50, 100, size=len(fechas))\n",
        "ubicacion2_ventas = np.random.randint(30, 80, size=len(fechas))\n",
        "\n",
        "# Crear DataFrames para cada ubicación\n",
        "df_ubicacion1 = pd.DataFrame({'Fecha': fechas, 'Producto_A': ubicacion1_ventas})\n",
        "df_ubicacion2 = pd.DataFrame({'Fecha': fechas, 'Producto_B': ubicacion2_ventas})\n",
        "\n",
        "# Manipulación avanzada de datos con Pandas\n",
        "# Calcular la venta total diaria y agregar una columna de día de la semana\n",
        "df_ubicacion1['Venta_Total'] = df_ubicacion1['Producto_A']\n",
        "df_ubicacion2['Venta_Total'] = df_ubicacion2['Producto_B']\n",
        "df_ubicacion1['Dia_Semana'] = df_ubicacion1['Fecha'].dt.day_name()\n",
        "\n",
        "# Trabajo con Fechas y Series Temporales en Pandas\n",
        "# Filtrar datos para el primer lunes de cada mes\n",
        "df_ubicacion1_lunes = df_ubicacion1[df_ubicacion1['Fecha'].dt.is_month_start & (df_ubicacion1['Fecha'].dt.day_name() == 'Monday')]\n",
        "\n",
        "# Combinación y Fusión de Conjuntos de Datos\n",
        "# Concatenar DataFrames a lo largo de las filas\n",
        "df_concatenado = pd.concat([df_ubicacion1, df_ubicacion2], ignore_index=True)\n",
        "\n",
        "# Fusionar DataFrames basándose en la columna 'Fecha'\n",
        "df_fusionado = pd.merge(df_concatenado, df_ubicacion1_lunes[['Fecha', 'Dia_Semana']], on='Fecha', how='left')\n",
        "\n",
        "print(\"DataFrame de Ubicación 1:\")\n",
        "print(df_ubicacion1)\n",
        "print(\"\\nDataFrame de Ubicación 2:\")\n",
        "print(df_ubicacion2)\n",
        "print(\"\\nDataFrame Concatenado:\")\n",
        "print(df_concatenado)\n",
        "print(\"\\nDataFrame Fusionado:\")\n",
        "print(df_fusionado)\n"
      ],
      "metadata": {
        "id": "3RFYm8xzfVyq"
      },
      "execution_count": null,
      "outputs": []
    }
  ]
}