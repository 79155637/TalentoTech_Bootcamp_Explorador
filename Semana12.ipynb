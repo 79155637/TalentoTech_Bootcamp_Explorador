{
  "nbformat": 4,
  "nbformat_minor": 0,
  "metadata": {
    "colab": {
      "provenance": [],
      "authorship_tag": "ABX9TyOrfik3BzgvPk8MCQhBe6SJ",
      "include_colab_link": true
    },
    "kernelspec": {
      "name": "python3",
      "display_name": "Python 3"
    },
    "language_info": {
      "name": "python"
    }
  },
  "cells": [
    {
      "cell_type": "markdown",
      "metadata": {
        "id": "view-in-github",
        "colab_type": "text"
      },
      "source": [
        "<a href=\"https://colab.research.google.com/github/ledyquesada/Ejercicios/blob/main/Semana12.ipynb\" target=\"_parent\"><img src=\"https://colab.research.google.com/assets/colab-badge.svg\" alt=\"Open In Colab\"/></a>"
      ]
    },
    {
      "cell_type": "code",
      "execution_count": null,
      "metadata": {
        "id": "Dv8l5nR2I9cp"
      },
      "outputs": [],
      "source": []
    },
    {
      "cell_type": "markdown",
      "source": [
        "# BOSQUES ALEATORIOS\n",
        "**Clasificación con RandomForestClassifier**"
      ],
      "metadata": {
        "id": "1p7XQMFeI_kF"
      }
    },
    {
      "cell_type": "code",
      "source": [
        "# Importar bibliotecas necesarias\n",
        "from sklearn.datasets import load_iris\n",
        "from sklearn.model_selection import train_test_split\n",
        "from sklearn.ensemble import RandomForestClassifier\n",
        "from sklearn.metrics import accuracy_score\n",
        "\n",
        "# Cargar conjunto de datos de Iris\n",
        "iris = load_iris()\n",
        "X, y = iris.data, iris.target\n",
        "\n",
        "# Dividir datos en conjuntos de entrenamiento y prueba\n",
        "X_train, X_test, y_train, y_test = train_test_split(X, y, test_size=0.2, random_state=42)\n",
        "\n",
        "# Inicializar y entrenar el clasificador de Bosques Aleatorios\n",
        "clf = RandomForestClassifier(n_estimators=100, random_state=42)\n",
        "clf.fit(X_train, y_train)\n",
        "\n",
        "# Realizar predicciones en el conjunto de prueba\n",
        "y_pred = clf.predict(X_test)\n",
        "\n",
        "# Evaluar la precisión del modelo\n",
        "accuracy = accuracy_score(y_test, y_pred)\n",
        "print(f'Precisión del modelo: {accuracy}')\n"
      ],
      "metadata": {
        "colab": {
          "base_uri": "https://localhost:8080/"
        },
        "id": "F2eiyWwRJN89",
        "outputId": "e12ce8c9-52bc-486f-f08e-2d706272eaac"
      },
      "execution_count": 1,
      "outputs": [
        {
          "output_type": "stream",
          "name": "stdout",
          "text": [
            "Precisión del modelo: 1.0\n"
          ]
        }
      ]
    },
    {
      "cell_type": "markdown",
      "source": [
        "**Regresión con RandomForestRegressor:**"
      ],
      "metadata": {
        "id": "nIAdf9OuJzgV"
      }
    },
    {
      "cell_type": "code",
      "source": [
        "# Importar bibliotecas necesarias\n",
        "from sklearn.datasets import load_diabetes\n",
        "from sklearn.model_selection import train_test_split\n",
        "from sklearn.ensemble import RandomForestRegressor\n",
        "from sklearn.metrics import mean_squared_error\n",
        "\n",
        "# Cargar conjunto de datos de diabetes\n",
        "diabetes = load_diabetes()\n",
        "X, y = diabetes.data, diabetes.target\n",
        "\n",
        "# Dividir datos en conjuntos de entrenamiento y prueba\n",
        "X_train, X_test, y_train, y_test = train_test_split(X, y, test_size=0.2, random_state=42)\n",
        "\n",
        "# Inicializar y entrenar el regresor de Bosques Aleatorios\n",
        "regressor = RandomForestRegressor(n_estimators=100, random_state=42)\n",
        "regressor.fit(X_train, y_train)\n",
        "\n",
        "# Realizar predicciones en el conjunto de prueba\n",
        "y_pred = regressor.predict(X_test)\n",
        "\n",
        "# Evaluar el rendimiento del modelo (Error Cuadrático Medio en este caso)\n",
        "mse = mean_squared_error(y_test, y_pred)\n",
        "print(f'Error Cuadrático Medio: {mse}')\n",
        "\n"
      ],
      "metadata": {
        "colab": {
          "base_uri": "https://localhost:8080/"
        },
        "id": "MEZULgkhJ2Fz",
        "outputId": "72a7a7ee-9cb1-43e9-9e05-5cc7752f65d0"
      },
      "execution_count": 3,
      "outputs": [
        {
          "output_type": "stream",
          "name": "stdout",
          "text": [
            "Error Cuadrático Medio: 2952.0105887640448\n"
          ]
        }
      ]
    },
    {
      "cell_type": "markdown",
      "source": [
        "**EVALUACIÓN DE BOSQUES**"
      ],
      "metadata": {
        "id": "5-vTKZmOMOGq"
      }
    },
    {
      "cell_type": "code",
      "source": [
        "#CLASIFICACION\n",
        "\n",
        "#1.\tExactitud (Accuracy):\n",
        "\n",
        "from sklearn.metrics import accuracy_score\n",
        "accuracy = accuracy_score(y_true, y_pred)\n",
        "\n",
        "#Precisión, Recuperación y Puntuación F1\n",
        "\n",
        "from sklearn.metrics import precision_score, recall_score, f1_score\n",
        "precision = precision_score(y_true, y_pred)\n",
        "recall = recall_score(y_true, y_pred)\n",
        "f1 = f1_score(y_true, y_pred)\n",
        "\n",
        "#Matriz de Confusión\n",
        "\n",
        "from sklearn.metrics import confusion_matrix\n",
        "cm = confusion_matrix(y_true, y_pred)\n",
        "\n",
        "\n",
        "#REGRESION\n",
        "\n",
        "#Error cuadrático medio(MSE)\n",
        "\n",
        "from sklearn.metrics import mean_squared_error\n",
        "mse = mean_squared_error(y_true, y_pred)\n",
        "\n",
        "#Coeficiente de Determinación (R²)\n",
        "\n",
        "from sklearn.metrics import r2_score\n",
        "r2 = r2_score(y_true, y_pred)\n",
        "\n",
        "\n"
      ],
      "metadata": {
        "id": "UPCnhJ65Mk3f"
      },
      "execution_count": null,
      "outputs": []
    },
    {
      "cell_type": "markdown",
      "source": [
        "**Feature Importance**"
      ],
      "metadata": {
        "id": "5NF5D4MkPY4r"
      }
    },
    {
      "cell_type": "code",
      "source": [
        "#importances = regressor.feature_importances_\n",
        "#feature_names = df.columns[:-1]  # Ajusta esto según las columnas de tu conjunto de datos\n",
        "#feature_importance_dict = dict(zip(feature_names, importances))\n",
        "\n",
        "# Visualizar la importancia de las características\n",
        "#sorted_feature_importance = sorted(feature_importance_dict.items(), key=lambda x: x[1], reverse=True)\n",
        "#for feature, importance in sorted_feature_importance:\n",
        "#    print(f'{feature}: {importance}')\n",
        "\n",
        "\n",
        "#Ejemplo\n",
        "import numpy as np\n",
        "import pandas as pd\n",
        "from sklearn.ensemble import RandomForestRegressor\n",
        "import matplotlib.pyplot as plt\n",
        "\n",
        "# Crear un conjunto de datos aleatorio\n",
        "np.random.seed(42)\n",
        "data = pd.DataFrame({\n",
        "    'feature1': np.random.rand(100),\n",
        "    'feature2': np.random.rand(100),\n",
        "    'feature3': np.random.rand(100),\n",
        "    'target': np.random.rand(100)\n",
        "})\n",
        "\n",
        "# Separar las características y la variable objetivo\n",
        "X = data.drop('target', axis=1)\n",
        "y = data['target']\n",
        "\n",
        "# Crear y entrenar un modelo de Bosques Aleatorios\n",
        "rf_regressor = RandomForestRegressor(n_estimators=100, random_state=42)\n",
        "rf_regressor.fit(X, y)\n",
        "\n",
        "# Calcular la importancia de las características\n",
        "importances = rf_regressor.feature_importances_\n",
        "feature_names = X.columns\n",
        "\n",
        "# Visualizar la importancia de las características\n",
        "plt.figure(figsize=(10, 6))\n",
        "plt.barh(feature_names, importances, color='skyblue')\n",
        "plt.xlabel('Importancia')\n",
        "plt.title('Importancia de las Características en el Modelo de Bosques Aleatorios')\n",
        "plt.show()\n"
      ],
      "metadata": {
        "colab": {
          "base_uri": "https://localhost:8080/",
          "height": 565
        },
        "id": "hL7oRdRIPcHR",
        "outputId": "854908fe-c7cc-4b44-de29-0032e10059f7"
      },
      "execution_count": 4,
      "outputs": [
        {
          "output_type": "display_data",
          "data": {
            "text/plain": [
              "<Figure size 1000x600 with 1 Axes>"
            ],
            "image/png": "[encoded data removed]"
          },
          "metadata": {}
        }
      ]
    },
    {
      "cell_type": "markdown",
      "source": [
        "**HIPERPARAMETROS**\n"
      ],
      "metadata": {
        "id": "_6AzWA59QzRB"
      }
    },
    {
      "cell_type": "code",
      "source": [
        "#GRID SEARCH\n",
        "\n",
        "from sklearn.model_selection import GridSearchCV\n",
        "from sklearn.ensemble import RandomForestClassifier\n",
        "\n",
        "# Definir el espacio de búsqueda\n",
        "param_grid = {\n",
        "    'n_estimators': [10, 50, 100],\n",
        "    'max_depth': [None, 10, 20],\n",
        "    'min_samples_split': [2, 5, 10]\n",
        "}\n",
        "\n",
        "# Inicializar el modelo\n",
        "rf_model = RandomForestClassifier()\n",
        "\n",
        "# Realizar búsqueda grid\n",
        "grid_search = GridSearchCV(rf_model, param_grid, cv=5)\n",
        "grid_search.fit(X_train, y_train)\n",
        "\n",
        "# Mejores hiperparámetros\n",
        "best_params = grid_search.best_params_\n",
        "\n",
        "\n",
        "#RANDOM SEARCH\n",
        "\n",
        "from sklearn.model_selection import RandomizedSearchCV\n",
        "from scipy.stats import randint\n",
        "\n",
        "# Definir el espacio de búsqueda\n",
        "param_dist = {\n",
        "    'n_estimators': randint(10, 200),\n",
        "    'max_depth': [None, 10, 20, 30],\n",
        "    'min_samples_split': randint(2, 20)\n",
        "}\n",
        "\n",
        "# Inicializar el modelo\n",
        "rf_model = RandomForestClassifier()\n",
        "\n",
        "# Realizar búsqueda aleatoria\n",
        "random_search = RandomizedSearchCV(rf_model, param_distributions=param_dist, n_iter=20, cv=5)\n",
        "random_search.fit(X_train, y_train)\n",
        "\n",
        "# Mejores hiperparámetros\n",
        "best_params_random = random_search.best_params_\n",
        "\n"
      ],
      "metadata": {
        "id": "QPCZg-2LQ7JS"
      },
      "execution_count": null,
      "outputs": []
    },
    {
      "cell_type": "markdown",
      "source": [
        "# REDES NEURONALES\n"
      ],
      "metadata": {
        "id": "XxOer1UPUjpg"
      }
    },
    {
      "cell_type": "code",
      "source": [
        "#Construcción de Modelos Secuenciales\n",
        "\n",
        "import numpy as np\n",
        "from sklearn.model_selection import train_test_split\n",
        "from sklearn.preprocessing import StandardScaler\n",
        "from tensorflow import keras\n",
        "from tensorflow.keras import layers\n",
        "\n",
        "# Generar datos simulados\n",
        "np.random.seed(42)\n",
        "X = np.random.rand(100, 64)  # 100 muestras, 64 características\n",
        "y = np.random.randint(2, size=100)  # Etiquetas binarias (0 o 1)\n",
        "\n",
        "# Dividir los datos en conjuntos de entrenamiento y prueba\n",
        "X_train, X_test, y_train, y_test = train_test_split(X, y, test_size=0.2, random_state=42)\n",
        "\n",
        "# Normalizar los datos\n",
        "scaler = StandardScaler()\n",
        "X_train = scaler.fit_transform(X_train)\n",
        "X_test = scaler.transform(X_test)\n",
        "\n",
        "# Definir la dimensión de las características de entrada\n",
        "input_dim = X_train.shape[1]\n",
        "\n",
        "# Crear un modelo secuencial\n",
        "model = keras.Sequential()\n",
        "\n",
        "# Agregar capas al modelo\n",
        "model.add(layers.Dense(64, activation='relu', input_shape=(input_dim,)))\n",
        "model.add(layers.Dense(1, activation='sigmoid'))  # Capa de salida para clasificación binaria\n",
        "\n",
        "# Compilar el modelo\n",
        "model.compile(optimizer='adam', loss='binary_crossentropy', metrics=['accuracy'])\n",
        "\n",
        "# Entrenar el modelo\n",
        "model.fit(X_train, y_train, epochs=10, batch_size=32, validation_data=(X_test, y_test))\n",
        "\n",
        "\n",
        "#Construccion de modelos funcionales\n",
        "\n",
        "import numpy as np\n",
        "from sklearn.model_selection import train_test_split\n",
        "from sklearn.preprocessing import StandardScaler\n",
        "from tensorflow import keras\n",
        "from tensorflow.keras import layers\n",
        "\n",
        "print(\"MODELOS FUNCIONALES\")\n",
        "\n",
        "# Generar datos simulados\n",
        "np.random.seed(42)\n",
        "X = np.random.rand(100, 64)  # 100 muestras, 64 características\n",
        "y = np.random.randint(2, size=100)  # Etiquetas binarias (0 o 1)\n",
        "\n",
        "# Dividir los datos en conjuntos de entrenamiento y prueba\n",
        "X_train, X_test, y_train, y_test = train_test_split(X, y, test_size=0.2, random_state=42)\n",
        "\n",
        "# Normalizar los datos\n",
        "scaler = StandardScaler()\n",
        "X_train = scaler.fit_transform(X_train)\n",
        "X_test = scaler.transform(X_test)\n",
        "\n",
        "# Definir la dimensión de las características de entrada\n",
        "input_dim = X_train.shape[1]\n",
        "\n",
        "# Crear capa de entrada\n",
        "input_layer = layers.Input(shape=(input_dim,))\n",
        "\n",
        "# Agregar capas al modelo funcional\n",
        "hidden_layer = layers.Dense(64, activation='relu')(input_layer)\n",
        "output_layer = layers.Dense(1, activation='sigmoid')(hidden_layer)  # Capa de salida para clasificación binaria\n",
        "\n",
        "# Crear modelo funcional\n",
        "model = keras.Model(inputs=input_layer, outputs=output_layer)\n",
        "\n",
        "# Compilar el modelo\n",
        "model.compile(optimizer='adam', loss='binary_crossentropy', metrics=['accuracy'])\n",
        "\n",
        "# Entrenar el modelo\n",
        "model.fit(X_train, y_train, epochs=10, batch_size=32, validation_data=(X_test, y_test))\n",
        "\n",
        "\n"
      ],
      "metadata": {
        "colab": {
          "base_uri": "https://localhost:8080/"
        },
        "id": "Uhf1sGVEUtCr",
        "outputId": "54866647-9ff6-489c-f46d-9d8ed34003a7"
      },
      "execution_count": 9,
      "outputs": [
        {
          "output_type": "stream",
          "name": "stdout",
          "text": [
            "Epoch 1/10\n",
            "3/3 [==============================] - 1s 144ms/step - loss: 0.7269 - accuracy: 0.5375 - val_loss: 0.6754 - val_accuracy: 0.5500\n",
            "Epoch 2/10\n",
            "3/3 [==============================] - 0s 23ms/step - loss: 0.6726 - accuracy: 0.5875 - val_loss: 0.6853 - val_accuracy: 0.5500\n",
            "Epoch 3/10\n",
            "3/3 [==============================] - 0s 21ms/step - loss: 0.6307 - accuracy: 0.6250 - val_loss: 0.6983 - val_accuracy: 0.5000\n",
            "Epoch 4/10\n",
            "3/3 [==============================] - 0s 32ms/step - loss: 0.5931 - accuracy: 0.7000 - val_loss: 0.7101 - val_accuracy: 0.4500\n",
            "Epoch 5/10\n",
            "3/3 [==============================] - 0s 33ms/step - loss: 0.5586 - accuracy: 0.7375 - val_loss: 0.7233 - val_accuracy: 0.4500\n",
            "Epoch 6/10\n",
            "3/3 [==============================] - 0s 32ms/step - loss: 0.5279 - accuracy: 0.7875 - val_loss: 0.7379 - val_accuracy: 0.4500\n",
            "Epoch 7/10\n",
            "3/3 [==============================] - 0s 30ms/step - loss: 0.4999 - accuracy: 0.8250 - val_loss: 0.7526 - val_accuracy: 0.4000\n",
            "Epoch 8/10\n",
            "3/3 [==============================] - 0s 22ms/step - loss: 0.4747 - accuracy: 0.8625 - val_loss: 0.7676 - val_accuracy: 0.4000\n",
            "Epoch 9/10\n",
            "3/3 [==============================] - 0s 24ms/step - loss: 0.4515 - accuracy: 0.8875 - val_loss: 0.7812 - val_accuracy: 0.4000\n",
            "Epoch 10/10\n",
            "3/3 [==============================] - 0s 37ms/step - loss: 0.4295 - accuracy: 0.8875 - val_loss: 0.7943 - val_accuracy: 0.4000\n",
            "MODELOS FUNCIONALES\n",
            "Epoch 1/10\n",
            "3/3 [==============================] - 1s 139ms/step - loss: 0.7741 - accuracy: 0.5500 - val_loss: 0.8077 - val_accuracy: 0.5500\n",
            "Epoch 2/10\n",
            "3/3 [==============================] - 0s 18ms/step - loss: 0.7191 - accuracy: 0.5875 - val_loss: 0.8077 - val_accuracy: 0.5500\n",
            "Epoch 3/10\n",
            "3/3 [==============================] - 0s 20ms/step - loss: 0.6796 - accuracy: 0.6000 - val_loss: 0.8101 - val_accuracy: 0.5500\n",
            "Epoch 4/10\n",
            "3/3 [==============================] - 0s 16ms/step - loss: 0.6458 - accuracy: 0.6125 - val_loss: 0.8147 - val_accuracy: 0.5500\n",
            "Epoch 5/10\n",
            "3/3 [==============================] - 0s 16ms/step - loss: 0.6109 - accuracy: 0.6500 - val_loss: 0.8195 - val_accuracy: 0.5500\n",
            "Epoch 6/10\n",
            "3/3 [==============================] - 0s 15ms/step - loss: 0.5812 - accuracy: 0.6625 - val_loss: 0.8254 - val_accuracy: 0.5500\n",
            "Epoch 7/10\n",
            "3/3 [==============================] - 0s 15ms/step - loss: 0.5532 - accuracy: 0.6750 - val_loss: 0.8319 - val_accuracy: 0.5000\n",
            "Epoch 8/10\n",
            "3/3 [==============================] - 0s 15ms/step - loss: 0.5268 - accuracy: 0.7125 - val_loss: 0.8378 - val_accuracy: 0.5000\n",
            "Epoch 9/10\n",
            "3/3 [==============================] - 0s 16ms/step - loss: 0.5029 - accuracy: 0.7500 - val_loss: 0.8451 - val_accuracy: 0.5000\n",
            "Epoch 10/10\n",
            "3/3 [==============================] - 0s 17ms/step - loss: 0.4822 - accuracy: 0.7625 - val_loss: 0.8516 - val_accuracy: 0.5000\n"
          ]
        },
        {
          "output_type": "execute_result",
          "data": {
            "text/plain": [
              "<keras.src.callbacks.History at 0x7da89dbdc7c0>"
            ]
          },
          "metadata": {},
          "execution_count": 9
        }
      ]
    },
    {
      "cell_type": "markdown",
      "source": [
        "**EJEMPLOS PRÁCTICOS**"
      ],
      "metadata": {
        "id": "hqdSCvluWA1J"
      }
    },
    {
      "cell_type": "code",
      "source": [
        "#EJEMPLO CNN\n",
        "\n",
        "from tensorflow import keras\n",
        "from tensorflow.keras import layers\n",
        "from tensorflow.keras.datasets import mnist\n",
        "from tensorflow.keras.utils import to_categorical\n",
        "\n",
        "# Cargar y preprocesar datos MNIST\n",
        "(train_images, train_labels), (test_images, test_labels) = mnist.load_data()\n",
        "train_images = train_images.reshape((60000, 28, 28, 1)).astype('float32') / 255\n",
        "test_images = test_images.reshape((10000, 28, 28, 1)).astype('float32') / 255\n",
        "train_labels = to_categorical(train_labels)\n",
        "test_labels = to_categorical(test_labels)\n",
        "\n",
        "# Construir el modelo CNN\n",
        "model = keras.Sequential()\n",
        "model.add(layers.Conv2D(32, (3, 3), activation='relu', input_shape=(28, 28, 1)))\n",
        "model.add(layers.MaxPooling2D((2, 2)))\n",
        "model.add(layers.Conv2D(64, (3, 3), activation='relu'))\n",
        "model.add(layers.MaxPooling2D((2, 2)))\n",
        "model.add(layers.Conv2D(64, (3, 3), activation='relu'))\n",
        "model.add(layers.Flatten())\n",
        "model.add(layers.Dense(64, activation='relu'))\n",
        "model.add(layers.Dense(10, activation='softmax'))\n",
        "\n",
        "# Compilar y entrenar el modelo\n",
        "model.compile(optimizer='adam', loss='categorical_crossentropy', metrics=['accuracy'])\n",
        "model.fit(train_images, train_labels, epochs=10, batch_size=64, validation_split=0.2)\n",
        "\n",
        "\n",
        "#EJEMPLO red densa\n",
        "\n",
        "from tensorflow import keras\n",
        "from tensorflow.keras import layers\n",
        "import numpy as np\n",
        "\n",
        "# Generar datos de ejemplo para regresión\n",
        "np.random.seed(42)\n",
        "X = np.random.rand(1000, 10)\n",
        "y = 3 * X[:, 0] + 2 * X[:, 3] + np.random.randn(1000)\n",
        "\n",
        "# Construir el modelo de regresión\n",
        "model = keras.Sequential()\n",
        "model.add(layers.Dense(64, activation='relu', input_shape=(10,)))\n",
        "model.add(layers.Dense(1))  # Capa de salida sin función de activación para regresión\n",
        "\n",
        "# Compilar y entrenar el modelo\n",
        "model.compile(optimizer='adam', loss='mean_squared_error')\n",
        "model.fit(X, y, epochs=50, batch_size=32, validation_split=0.2)\n"
      ],
      "metadata": {
        "colab": {
          "base_uri": "https://localhost:8080/"
        },
        "id": "wQDzm_EwWDIu",
        "outputId": "d46fcc55-036d-46f5-c39a-4db75dbfd4df"
      },
      "execution_count": 10,
      "outputs": [
        {
          "output_type": "stream",
          "name": "stdout",
          "text": [
            "Downloading data from https://storage.googleapis.com/tensorflow/tf-keras-datasets/mnist.npz\n",
            "11490434/11490434 [==============================] - 0s 0us/step\n",
            "Epoch 1/10\n",
            "750/750 [==============================] - 40s 52ms/step - loss: 0.2128 - accuracy: 0.9357 - val_loss: 0.0928 - val_accuracy: 0.9718\n",
            "Epoch 2/10\n",
            "750/750 [==============================] - 42s 56ms/step - loss: 0.0556 - accuracy: 0.9826 - val_loss: 0.0468 - val_accuracy: 0.9862\n",
            "Epoch 3/10\n",
            "750/750 [==============================] - 36s 47ms/step - loss: 0.0395 - accuracy: 0.9880 - val_loss: 0.0477 - val_accuracy: 0.9852\n",
            "Epoch 4/10\n",
            "750/750 [==============================] - 36s 48ms/step - loss: 0.0305 - accuracy: 0.9906 - val_loss: 0.0493 - val_accuracy: 0.9858\n",
            "Epoch 5/10\n",
            "750/750 [==============================] - 36s 49ms/step - loss: 0.0232 - accuracy: 0.9923 - val_loss: 0.0427 - val_accuracy: 0.9886\n",
            "Epoch 6/10\n",
            "750/750 [==============================] - 35s 47ms/step - loss: 0.0203 - accuracy: 0.9935 - val_loss: 0.0474 - val_accuracy: 0.9878\n",
            "Epoch 7/10\n",
            "750/750 [==============================] - 35s 47ms/step - loss: 0.0168 - accuracy: 0.9945 - val_loss: 0.0407 - val_accuracy: 0.9894\n",
            "Epoch 8/10\n",
            "750/750 [==============================] - 36s 48ms/step - loss: 0.0138 - accuracy: 0.9955 - val_loss: 0.0380 - val_accuracy: 0.9898\n",
            "Epoch 9/10\n",
            "750/750 [==============================] - 36s 47ms/step - loss: 0.0131 - accuracy: 0.9956 - val_loss: 0.0407 - val_accuracy: 0.9900\n",
            "Epoch 10/10\n",
            "750/750 [==============================] - 36s 47ms/step - loss: 0.0100 - accuracy: 0.9965 - val_loss: 0.0456 - val_accuracy: 0.9898\n"
          ]
        },
        {
          "output_type": "execute_result",
          "data": {
            "text/plain": [
              "<keras.src.callbacks.History at 0x7da89e778cd0>"
            ]
          },
          "metadata": {},
          "execution_count": 10
        }
      ]
    },
    {
      "cell_type": "markdown",
      "source": [
        "**EVALUACION DE REDES NEURONALES**"
      ],
      "metadata": {
        "id": "qD0DvveAadAg"
      }
    },
    {
      "cell_type": "code",
      "source": [
        "#CLASIFICACION\n",
        "\n",
        "\n",
        "#MATRIZ DE CONFUSION\n",
        "\n",
        "from sklearn.metrics import confusion_matrix\n",
        "\n",
        "y_pred = model.predict(X_test)\n",
        "y_pred_binary = (y_pred > 0.5).astype(int)\n",
        "\n",
        "conf_matrix = confusion_matrix(y_test, y_pred_binary)\n",
        "print(conf_matrix)\n",
        "\n",
        "\n",
        "#RECALL Y ESPECIFIDAD\n",
        "from sklearn.metrics import precision_score, recall_score, specificity_score\n",
        "\n",
        "precision = precision_score(y_test, y_pred_binary)\n",
        "recall = recall_score(y_test, y_pred_binary)\n",
        "specificity = specificity_score(y_test, y_pred_binary)\n",
        "\n",
        "print(f'Precision: {precision}')\n",
        "print(f'Recall: {recall}')\n",
        "print(f'Specificity: {specificity}')\n",
        "\n",
        "\n",
        "#F1 SCORE\n",
        "\n",
        "from sklearn.metrics import f1_score\n",
        "\n",
        "f1 = f1_score(y_test, y_pred_binary)\n",
        "print(f'F1-Score: {f1}')\n",
        "\n",
        "\n",
        "#AUC-ROC\n",
        "from sklearn.metrics import roc_auc_score\n",
        "\n",
        "roc_auc = roc_auc_score(y_test, y_pred)\n",
        "print(f'AUC-ROC Score: {roc_auc}')\n",
        "\n",
        "\n",
        "#REGRESION\n",
        "#MAE-MSE\n",
        "from sklearn.metrics import mean_absolute_error, mean_squared_error\n",
        "\n",
        "mae = mean_absolute_error(y_test, y_pred)\n",
        "mse = mean_squared_error(y_test, y_pred)\n",
        "\n",
        "print(f'MAE: {mae}')\n",
        "print(f'MSE: {mse}')\n",
        "\n",
        "#r^2\n",
        "\n",
        "from sklearn.metrics import r2_score\n",
        "\n",
        "r2 = r2_score(y_test, y_pred)\n",
        "print(f'R^2 Score: {r2}')\n",
        "\n",
        "\n",
        "#ANALISIS DE RESIDUOS\n",
        "residuos = y_test - y_pred.flatten()\n",
        "\n",
        "plt.scatter(y_pred, residuos)\n",
        "plt.axhline(y=0, color='r', linestyle='--')\n",
        "plt.xlabel('Predicciones')\n",
        "plt.ylabel('Residuos')\n",
        "plt.title('Análisis de Residuos')\n",
        "plt.show()\n",
        "\n",
        "\n",
        "#PREDICCIONES VS VALORES REALES\n",
        "\n",
        "plt.scatter(y_test, y_pred)\n",
        "plt.plot([min(y_test), max(y_test)], [min(y_test), max(y_test)], '--', color='red', linewidth=2)\n",
        "plt.xlabel('Valores Reales')\n",
        "plt.ylabel('Predicciones')\n",
        "plt.title('Predicciones vs. Valores Reales')\n",
        "plt.show()\n",
        "\n",
        "\n",
        "\n"
      ],
      "metadata": {
        "id": "gn7TVE0VagmX"
      },
      "execution_count": null,
      "outputs": []
    }
  ]
}